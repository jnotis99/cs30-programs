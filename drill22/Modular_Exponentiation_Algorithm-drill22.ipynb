{
 "cells": [
  {
   "cell_type": "markdown",
   "metadata": {},
   "source": [
    "# CS 30: Modular Exponentiation Algorithm\n",
    "## Joseph Notis, Summer 2020"
   ]
  },
  {
   "cell_type": "markdown",
   "metadata": {},
   "source": [
    "### Implementation of the modular exponentiation algorithm (from lecture 22 notes):"
   ]
  },
  {
   "cell_type": "code",
   "execution_count": 1,
   "metadata": {},
   "outputs": [],
   "source": [
    "def mod_exp(a, b, n):\n",
    "    print(\"%d^%d mod %d\" %(a, b, n))\n",
    "    preva = a\n",
    "    a = a % n\n",
    "    if b == 1: # base case\n",
    "        return a\n",
    "    if b % 2 == 0:\n",
    "        print(\"= {%d mod %d = %d. %d is even, square %d and divide %d by 2}\" % (preva, n, a, b, a, b))\n",
    "        return mod_exp(a**2, b/2, n) \n",
    "    else:\n",
    "        print(\"= {%d mod %d = %d. Subtract %d by 1, multiply %d back at the end}\" % (preva, n, a, b, a))\n",
    "        s = mod_exp(a, b-1, n) # s = a^{b-1} mod n\n",
    "        print (\"= {%d ^ %d mod %d = %d. Multiply back the extra %d that was removed}\" % (a, b-1, n, s, a))\n",
    "        return ((a * s) % n)"
   ]
  },
  {
   "cell_type": "markdown",
   "metadata": {},
   "source": [
    "### 1a"
   ]
  },
  {
   "cell_type": "code",
   "execution_count": 2,
   "metadata": {},
   "outputs": [
    {
     "name": "stdout",
     "output_type": "stream",
     "text": [
      "7^72 mod 11\n",
      "= {7 mod 11 = 7. 72 is even, square 7 and divide 72 by 2}\n",
      "49^36 mod 11\n",
      "= {49 mod 11 = 5. 36 is even, square 5 and divide 36 by 2}\n",
      "25^18 mod 11\n",
      "= {25 mod 11 = 3. 18 is even, square 3 and divide 18 by 2}\n",
      "9^9 mod 11\n",
      "= {9 mod 11 = 9. Subtract 9 by 1, multiply 9 back at the end}\n",
      "9^8 mod 11\n",
      "= {9 mod 11 = 9. 8 is even, square 9 and divide 8 by 2}\n",
      "81^4 mod 11\n",
      "= {81 mod 11 = 4. 4 is even, square 4 and divide 4 by 2}\n",
      "16^2 mod 11\n",
      "= {16 mod 11 = 5. 2 is even, square 5 and divide 2 by 2}\n",
      "25^1 mod 11\n",
      "= {9 ^ 8 mod 11 = 3. Multiply back the extra 9 that was removed}\n",
      "= 5\n"
     ]
    }
   ],
   "source": [
    "print(\"= %d\" % mod_exp(7, 72, 11))"
   ]
  },
  {
   "cell_type": "markdown",
   "metadata": {},
   "source": [
    "### 1b"
   ]
  },
  {
   "cell_type": "code",
   "execution_count": 3,
   "metadata": {},
   "outputs": [
    {
     "name": "stdout",
     "output_type": "stream",
     "text": [
      "4^10 mod 5\n",
      "= {4 mod 5 = 4. 10 is even, square 4 and divide 10 by 2}\n",
      "16^5 mod 5\n",
      "= {16 mod 5 = 1. Subtract 5 by 1, multiply 1 back at the end}\n",
      "1^4 mod 5\n",
      "= {1 mod 5 = 1. 4 is even, square 1 and divide 4 by 2}\n",
      "1^2 mod 5\n",
      "= {1 mod 5 = 1. 2 is even, square 1 and divide 2 by 2}\n",
      "1^1 mod 5\n",
      "= {1 ^ 4 mod 5 = 1. Multiply back the extra 1 that was removed}\n",
      "= 1\n",
      "\n",
      "3^10 mod 5\n",
      "= {3 mod 5 = 3. 10 is even, square 3 and divide 10 by 2}\n",
      "9^5 mod 5\n",
      "= {9 mod 5 = 4. Subtract 5 by 1, multiply 4 back at the end}\n",
      "4^4 mod 5\n",
      "= {4 mod 5 = 4. 4 is even, square 4 and divide 4 by 2}\n",
      "16^2 mod 5\n",
      "= {16 mod 5 = 1. 2 is even, square 1 and divide 2 by 2}\n",
      "1^1 mod 5\n",
      "= {4 ^ 4 mod 5 = 1. Multiply back the extra 4 that was removed}\n",
      "= 4\n",
      "\n",
      "(4^10 - 3^10) mod 5 = (4^10 mod 5) - (3^10 mod 5) mod 5\n",
      "= 2\n"
     ]
    }
   ],
   "source": [
    "a = mod_exp(4, 10, 5)\n",
    "print(\"= %d\" % a)\n",
    "print()\n",
    "\n",
    "b = mod_exp(3, 10, 5)\n",
    "print(\"= %d\" % b)\n",
    "print()\n",
    "\n",
    "print(\"(4^10 - 3^10) mod 5 = (4^10 mod 5) - (3^10 mod 5) mod 5\")\n",
    "print(\"= %d\" % ((a - b) % 5))"
   ]
  }
 ],
 "metadata": {
  "kernelspec": {
   "display_name": "Python 3",
   "language": "python",
   "name": "python3"
  },
  "language_info": {
   "codemirror_mode": {
    "name": "ipython",
    "version": 3
   },
   "file_extension": ".py",
   "mimetype": "text/x-python",
   "name": "python",
   "nbconvert_exporter": "python",
   "pygments_lexer": "ipython3",
   "version": "3.8.3"
  }
 },
 "nbformat": 4,
 "nbformat_minor": 4
}
